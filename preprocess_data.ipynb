{
 "cells": [
  {
   "cell_type": "code",
   "execution_count": 6,
   "metadata": {},
   "outputs": [
    {
     "name": "stdout",
     "output_type": "stream",
     "text": [
      "<module 'utils' from '/Users/diogomesquita/Documents/nyu/2y/nlp/homeworks/hw2/utils.py'>\n",
      "<module 'data' from '/Users/diogomesquita/Documents/nyu/2y/nlp/homeworks/hw2/data.py'>\n"
     ]
    }
   ],
   "source": [
    "import os\n",
    "import io\n",
    "import string\n",
    "import pickle as pkl\n",
    "from collections import Counter\n",
    "import tqdm\n",
    "import numpy as np\n",
    "import pandas as pd\n",
    "import spacy\n",
    "import torch\n",
    "import torch.nn as nn\n",
    "from torch.utils.data import DataLoader\n",
    "\n",
    "import imp\n",
    "import utils\n",
    "import data\n",
    "print(imp.reload(utils))\n",
    "print(imp.reload(data))"
   ]
  },
  {
   "cell_type": "markdown",
   "metadata": {},
   "source": [
    "## Data Preprocessing"
   ]
  },
  {
   "cell_type": "code",
   "execution_count": 54,
   "metadata": {},
   "outputs": [],
   "source": [
    "# PARAMS:\n",
    "VOCAB_SIZE = 15000\n",
    "PAD = '<pad>'\n",
    "UNK = '<unk>'\n",
    "emb_dim = 300\n",
    "BATCH_SIZE = 32\n",
    "data_dir = \"hw2_data\""
   ]
  },
  {
   "cell_type": "code",
   "execution_count": 3,
   "metadata": {},
   "outputs": [],
   "source": [
    "train_data_raw = pd.read_csv(os.path.join(data_dir, \"snli_train.tsv\"), sep='\\t')\n",
    "val_data_raw = pd.read_csv(os.path.join(data_dir, \"snli_val.tsv\"), sep='\\t')"
   ]
  },
  {
   "cell_type": "code",
   "execution_count": 4,
   "metadata": {},
   "outputs": [],
   "source": [
    "labels_ix = {\n",
    "    'contradiction': 0,\n",
    "    'entailment': 1,\n",
    "    'neutral': 2\n",
    "}\n",
    "\n",
    "def label_to_ix(df):\n",
    "    return df['label'].apply(lambda x: labels_ix[x])\n",
    "\n",
    "train_target = label_to_ix(train_data_raw)\n",
    "val_target = label_to_ix(val_data_raw)\n",
    "\n",
    "train_data = train_data_raw.loc[:, ['sentence1', 'sentence2']]\n",
    "val_data = val_data_raw.loc[:, ['sentence1', 'sentence2']]\n",
    "\n",
    "train_data.columns = ['premise', 'hypothesis']\n",
    "val_data.columns = ['premise', 'hypothesis']"
   ]
  },
  {
   "cell_type": "code",
   "execution_count": 5,
   "metadata": {},
   "outputs": [
    {
     "data": {
      "text/html": [
       "<div>\n",
       "<style scoped>\n",
       "    .dataframe tbody tr th:only-of-type {\n",
       "        vertical-align: middle;\n",
       "    }\n",
       "\n",
       "    .dataframe tbody tr th {\n",
       "        vertical-align: top;\n",
       "    }\n",
       "\n",
       "    .dataframe thead th {\n",
       "        text-align: right;\n",
       "    }\n",
       "</style>\n",
       "<table border=\"1\" class=\"dataframe\">\n",
       "  <thead>\n",
       "    <tr style=\"text-align: right;\">\n",
       "      <th></th>\n",
       "      <th>sentence1</th>\n",
       "      <th>sentence2</th>\n",
       "      <th>label</th>\n",
       "    </tr>\n",
       "  </thead>\n",
       "  <tbody>\n",
       "    <tr>\n",
       "      <th>0</th>\n",
       "      <td>A young girl in a pink shirt sitting on a dock...</td>\n",
       "      <td>A young girl watching the sunset over the water .</td>\n",
       "      <td>neutral</td>\n",
       "    </tr>\n",
       "    <tr>\n",
       "      <th>1</th>\n",
       "      <td>A woman is smiling while the man next to her i...</td>\n",
       "      <td>Two people are next to each other .</td>\n",
       "      <td>entailment</td>\n",
       "    </tr>\n",
       "    <tr>\n",
       "      <th>2</th>\n",
       "      <td>Across the river , you can see a large building .</td>\n",
       "      <td>The large building is full of apartments and t...</td>\n",
       "      <td>neutral</td>\n",
       "    </tr>\n",
       "    <tr>\n",
       "      <th>3</th>\n",
       "      <td>a man in white shorts and a black shirt is par...</td>\n",
       "      <td>A man is riding a jetski on the ocean .</td>\n",
       "      <td>contradiction</td>\n",
       "    </tr>\n",
       "    <tr>\n",
       "      <th>4</th>\n",
       "      <td>Four black dogs run together on bright green g...</td>\n",
       "      <td>Four dogs are preparing to be launched into sp...</td>\n",
       "      <td>contradiction</td>\n",
       "    </tr>\n",
       "  </tbody>\n",
       "</table>\n",
       "</div>"
      ],
      "text/plain": [
       "                                           sentence1  \\\n",
       "0  A young girl in a pink shirt sitting on a dock...   \n",
       "1  A woman is smiling while the man next to her i...   \n",
       "2  Across the river , you can see a large building .   \n",
       "3  a man in white shorts and a black shirt is par...   \n",
       "4  Four black dogs run together on bright green g...   \n",
       "\n",
       "                                           sentence2          label  \n",
       "0  A young girl watching the sunset over the water .        neutral  \n",
       "1                Two people are next to each other .     entailment  \n",
       "2  The large building is full of apartments and t...        neutral  \n",
       "3            A man is riding a jetski on the ocean .  contradiction  \n",
       "4  Four dogs are preparing to be launched into sp...  contradiction  "
      ]
     },
     "execution_count": 5,
     "metadata": {},
     "output_type": "execute_result"
    }
   ],
   "source": [
    "train_data_raw.head()"
   ]
  },
  {
   "cell_type": "code",
   "execution_count": 6,
   "metadata": {},
   "outputs": [
    {
     "data": {
      "text/html": [
       "<div>\n",
       "<style scoped>\n",
       "    .dataframe tbody tr th:only-of-type {\n",
       "        vertical-align: middle;\n",
       "    }\n",
       "\n",
       "    .dataframe tbody tr th {\n",
       "        vertical-align: top;\n",
       "    }\n",
       "\n",
       "    .dataframe thead th {\n",
       "        text-align: right;\n",
       "    }\n",
       "</style>\n",
       "<table border=\"1\" class=\"dataframe\">\n",
       "  <thead>\n",
       "    <tr style=\"text-align: right;\">\n",
       "      <th></th>\n",
       "      <th>premise</th>\n",
       "      <th>hypothesis</th>\n",
       "    </tr>\n",
       "  </thead>\n",
       "  <tbody>\n",
       "    <tr>\n",
       "      <th>0</th>\n",
       "      <td>A young girl in a pink shirt sitting on a dock...</td>\n",
       "      <td>A young girl watching the sunset over the water .</td>\n",
       "    </tr>\n",
       "    <tr>\n",
       "      <th>1</th>\n",
       "      <td>A woman is smiling while the man next to her i...</td>\n",
       "      <td>Two people are next to each other .</td>\n",
       "    </tr>\n",
       "    <tr>\n",
       "      <th>2</th>\n",
       "      <td>Across the river , you can see a large building .</td>\n",
       "      <td>The large building is full of apartments and t...</td>\n",
       "    </tr>\n",
       "    <tr>\n",
       "      <th>3</th>\n",
       "      <td>a man in white shorts and a black shirt is par...</td>\n",
       "      <td>A man is riding a jetski on the ocean .</td>\n",
       "    </tr>\n",
       "    <tr>\n",
       "      <th>4</th>\n",
       "      <td>Four black dogs run together on bright green g...</td>\n",
       "      <td>Four dogs are preparing to be launched into sp...</td>\n",
       "    </tr>\n",
       "  </tbody>\n",
       "</table>\n",
       "</div>"
      ],
      "text/plain": [
       "                                             premise  \\\n",
       "0  A young girl in a pink shirt sitting on a dock...   \n",
       "1  A woman is smiling while the man next to her i...   \n",
       "2  Across the river , you can see a large building .   \n",
       "3  a man in white shorts and a black shirt is par...   \n",
       "4  Four black dogs run together on bright green g...   \n",
       "\n",
       "                                          hypothesis  \n",
       "0  A young girl watching the sunset over the water .  \n",
       "1                Two people are next to each other .  \n",
       "2  The large building is full of apartments and t...  \n",
       "3            A man is riding a jetski on the ocean .  \n",
       "4  Four dogs are preparing to be launched into sp...  "
      ]
     },
     "execution_count": 6,
     "metadata": {},
     "output_type": "execute_result"
    }
   ],
   "source": [
    "train_data.head()"
   ]
  },
  {
   "cell_type": "code",
   "execution_count": 7,
   "metadata": {},
   "outputs": [
    {
     "data": {
      "text/plain": [
       "0    2\n",
       "1    1\n",
       "2    2\n",
       "3    0\n",
       "4    0\n",
       "Name: label, dtype: int64"
      ]
     },
     "execution_count": 7,
     "metadata": {},
     "output_type": "execute_result"
    }
   ],
   "source": [
    "train_target[:5]"
   ]
  },
  {
   "cell_type": "code",
   "execution_count": 8,
   "metadata": {},
   "outputs": [
    {
     "name": "stdout",
     "output_type": "stream",
     "text": [
      "#examples train:  100000\n",
      "#examples val:  1000\n"
     ]
    }
   ],
   "source": [
    "n_train = len(train_data)\n",
    "n_val = len(val_data)\n",
    "print(\"#examples train: \", n_train)\n",
    "print(\"#examples val: \", n_val)"
   ]
  },
  {
   "cell_type": "code",
   "execution_count": 9,
   "metadata": {},
   "outputs": [
    {
     "name": "stdout",
     "output_type": "stream",
     "text": [
      "ix:  21110\n",
      "Premise:     Six men shielding their eyes from the sun\n",
      "Hypothesis:  People shield their eyes from the bright light .\n",
      "Label:       2\n"
     ]
    }
   ],
   "source": [
    "np.random.seed(4364)\n",
    "rx = np.random.randint(0, n_train, 1)[0]\n",
    "print(\"ix: \", rx)\n",
    "print(\"Premise:    \", train_data.iloc[rx,0])\n",
    "print(\"Hypothesis: \", train_data.iloc[rx,1])\n",
    "print(\"Label:      \", train_target[rx])"
   ]
  },
  {
   "cell_type": "code",
   "execution_count": 10,
   "metadata": {},
   "outputs": [],
   "source": [
    "def validate_data(df):\n",
    "    for ix in range(len(df)):\n",
    "        if type(df.loc[ix, 'premise']) != str:\n",
    "            print(\"Bad premise at index: \", ix)\n",
    "        if type(df.loc[ix, 'hypothesis']) != str:\n",
    "            print(\"Bad hypothesis at index: \", ix)\n",
    "            \n",
    "validate_data(train_data)\n",
    "validate_data(val_data)"
   ]
  },
  {
   "cell_type": "code",
   "execution_count": 11,
   "metadata": {},
   "outputs": [
    {
     "data": {
      "application/vnd.jupyter.widget-view+json": {
       "model_id": "56432de3f4e545159e1c166a0ff725b2",
       "version_major": 2,
       "version_minor": 0
      },
      "text/html": [
       "<p>Failed to display Jupyter Widget of type <code>HBox</code>.</p>\n",
       "<p>\n",
       "  If you're reading this message in the Jupyter Notebook or JupyterLab Notebook, it may mean\n",
       "  that the widgets JavaScript is still loading. If this message persists, it\n",
       "  likely means that the widgets JavaScript library is either not installed or\n",
       "  not enabled. See the <a href=\"https://ipywidgets.readthedocs.io/en/stable/user_install.html\">Jupyter\n",
       "  Widgets Documentation</a> for setup instructions.\n",
       "</p>\n",
       "<p>\n",
       "  If you're reading this message in another frontend (for example, a static\n",
       "  rendering on GitHub or <a href=\"https://nbviewer.jupyter.org/\">NBViewer</a>),\n",
       "  it may mean that your frontend doesn't currently support widgets.\n",
       "</p>\n"
      ],
      "text/plain": [
       "HBox(children=(IntProgress(value=0, max=100000), HTML(value='')))"
      ]
     },
     "metadata": {},
     "output_type": "display_data"
    },
    {
     "name": "stdout",
     "output_type": "stream",
     "text": [
      "\n"
     ]
    },
    {
     "data": {
      "application/vnd.jupyter.widget-view+json": {
       "model_id": "852f7a86715d4f1bb0937ef741053a37",
       "version_major": 2,
       "version_minor": 0
      },
      "text/html": [
       "<p>Failed to display Jupyter Widget of type <code>HBox</code>.</p>\n",
       "<p>\n",
       "  If you're reading this message in the Jupyter Notebook or JupyterLab Notebook, it may mean\n",
       "  that the widgets JavaScript is still loading. If this message persists, it\n",
       "  likely means that the widgets JavaScript library is either not installed or\n",
       "  not enabled. See the <a href=\"https://ipywidgets.readthedocs.io/en/stable/user_install.html\">Jupyter\n",
       "  Widgets Documentation</a> for setup instructions.\n",
       "</p>\n",
       "<p>\n",
       "  If you're reading this message in another frontend (for example, a static\n",
       "  rendering on GitHub or <a href=\"https://nbviewer.jupyter.org/\">NBViewer</a>),\n",
       "  it may mean that your frontend doesn't currently support widgets.\n",
       "</p>\n"
      ],
      "text/plain": [
       "HBox(children=(IntProgress(value=0, max=1000), HTML(value='')))"
      ]
     },
     "metadata": {},
     "output_type": "display_data"
    },
    {
     "name": "stdout",
     "output_type": "stream",
     "text": [
      "\n"
     ]
    }
   ],
   "source": [
    "tokenizer = spacy.load(\"en_core_web_sm\")\n",
    "\n",
    "def remove_punctuation(tokens):\n",
    "    return [token.text.lower() for token in tokens if token.text not in string.punctuation]\n",
    "    \n",
    "def tokenize(data):\n",
    "    all_tokens = []\n",
    "    data_tok = []\n",
    "    for ix in tqdm.tqdm_notebook(range(len(data))):\n",
    "        premise = remove_punctuation(tokenizer(data.loc[ix, 'premise']))\n",
    "        hypothesis = remove_punctuation(tokenizer(data.loc[ix, 'hypothesis']))\n",
    "        all_tokens += premise + hypothesis\n",
    "        data_tok.append([premise, hypothesis])\n",
    "    return data_tok, all_tokens\n",
    "\n",
    "train_data_tok, all_tokens = tokenize(train_data)\n",
    "val_data_tok, _ = tokenize(val_data)"
   ]
  },
  {
   "cell_type": "code",
   "execution_count": 46,
   "metadata": {},
   "outputs": [],
   "source": [
    "train_data_tok = utils.load_pkl_data('snli_train_tok.p')"
   ]
  },
  {
   "cell_type": "code",
   "execution_count": 49,
   "metadata": {},
   "outputs": [],
   "source": [
    "all_tokens = []\n",
    "for premise, hypo in train_data_tok:\n",
    "    all_tokens += premise + hypo"
   ]
  },
  {
   "cell_type": "code",
   "execution_count": 50,
   "metadata": {},
   "outputs": [
    {
     "data": {
      "text/plain": [
       "2038281"
      ]
     },
     "execution_count": 50,
     "metadata": {},
     "output_type": "execute_result"
    }
   ],
   "source": [
    "len(all_tokens)"
   ]
  },
  {
   "cell_type": "code",
   "execution_count": 25,
   "metadata": {},
   "outputs": [],
   "source": [
    "utils.save_pkl_data(train_data_tok, 'snli_train_tok.p')\n",
    "utils.save_pkl_data(all_tokens, 'snli_all_tokens.p')\n",
    "utils.save_pkl_data(val_data_tok, 'snli_val_tok.p')"
   ]
  },
  {
   "cell_type": "code",
   "execution_count": 52,
   "metadata": {},
   "outputs": [],
   "source": [
    "def load_vectors(fname):\n",
    "    fin = io.open(fname, 'r', encoding='utf-8', newline='\\n', errors='ignore')\n",
    "    data = {}\n",
    "    for line in fin:\n",
    "        tokens = line.rstrip().split(' ')\n",
    "        data[tokens[0]] = np.array(tokens[1:], dtype=np.float32)\n",
    "    return data\n",
    "\n",
    "tok2vec = load_vectors('wiki-news-300d-1M.vec')"
   ]
  },
  {
   "cell_type": "code",
   "execution_count": null,
   "metadata": {},
   "outputs": [],
   "source": [
    "len(np.unique(all_tokens))"
   ]
  },
  {
   "cell_type": "code",
   "execution_count": 55,
   "metadata": {},
   "outputs": [
    {
     "data": {
      "application/vnd.jupyter.widget-view+json": {
       "model_id": "b3525a85731a4cb499fd5499e34ee37a",
       "version_major": 2,
       "version_minor": 0
      },
      "text/html": [
       "<p>Failed to display Jupyter Widget of type <code>HBox</code>.</p>\n",
       "<p>\n",
       "  If you're reading this message in the Jupyter Notebook or JupyterLab Notebook, it may mean\n",
       "  that the widgets JavaScript is still loading. If this message persists, it\n",
       "  likely means that the widgets JavaScript library is either not installed or\n",
       "  not enabled. See the <a href=\"https://ipywidgets.readthedocs.io/en/stable/user_install.html\">Jupyter\n",
       "  Widgets Documentation</a> for setup instructions.\n",
       "</p>\n",
       "<p>\n",
       "  If you're reading this message in another frontend (for example, a static\n",
       "  rendering on GitHub or <a href=\"https://nbviewer.jupyter.org/\">NBViewer</a>),\n",
       "  it may mean that your frontend doesn't currently support widgets.\n",
       "</p>\n"
      ],
      "text/plain": [
       "HBox(children=(IntProgress(value=1, bar_style='info', max=1), HTML(value='')))"
      ]
     },
     "metadata": {},
     "output_type": "display_data"
    },
    {
     "name": "stdout",
     "output_type": "stream",
     "text": [
      "\n"
     ]
    }
   ],
   "source": [
    "def build_vocab(all_tokens, tok2vec):\n",
    "    counts = Counter(all_tokens).most_common()\n",
    "    ind2tok = [PAD, UNK] + [token for token, count in counts if token in tok2vec]\n",
    "    tok2ind = {tok: ind for ind, tok in enumerate(ind2tok)}\n",
    "    ind2vec = np.zeros((len(ind2tok), emb_dim), dtype=np.float32)\n",
    "    ind2vec[tok2ind[UNK], :] = np.random.uniform(low=-1, size=(emb_dim,))\n",
    "    for ix, tok in tqdm.tqdm_notebook(enumerate(ind2tok)):\n",
    "        if ix < 2:\n",
    "            continue\n",
    "        ind2vec[ix, :] = tok2vec[tok]\n",
    "    return ind2tok, tok2ind, torch.from_numpy(ind2vec)\n",
    "    \n",
    "ind2tok, tok2ind, ind2vec = build_vocab(all_tokens, tok2vec)\n",
    "\n",
    "utils.save_pkl_data(ind2tok, 'ind2tok.p', data_dir='vocab')\n",
    "utils.save_pkl_data(tok2ind, 'tok2ind.p', data_dir='vocab')\n",
    "utils.save_pkl_data(ind2vec, 'ind2vec.p', data_dir='vocab')"
   ]
  },
  {
   "cell_type": "code",
   "execution_count": 56,
   "metadata": {},
   "outputs": [
    {
     "name": "stdout",
     "output_type": "stream",
     "text": [
      "18107\n"
     ]
    }
   ],
   "source": [
    "print(len(ind2tok))"
   ]
  },
  {
   "cell_type": "code",
   "execution_count": null,
   "metadata": {},
   "outputs": [],
   "source": [
    "for ind2vec[:10,:50]"
   ]
  },
  {
   "cell_type": "code",
   "execution_count": 42,
   "metadata": {},
   "outputs": [
    {
     "name": "stdout",
     "output_type": "stream",
     "text": [
      "[4999/100000]\n",
      "[9999/100000]\n",
      "[14999/100000]\n",
      "[19999/100000]\n",
      "[24999/100000]\n",
      "[29999/100000]\n",
      "[34999/100000]\n",
      "[39999/100000]\n",
      "[44999/100000]\n",
      "[49999/100000]\n",
      "[54999/100000]\n",
      "[59999/100000]\n",
      "[64999/100000]\n",
      "[69999/100000]\n",
      "[74999/100000]\n",
      "[79999/100000]\n",
      "[84999/100000]\n",
      "[89999/100000]\n",
      "[94999/100000]\n",
      "[99999/100000]\n"
     ]
    }
   ],
   "source": [
    "def data_indices(data):\n",
    "    data_ind = []\n",
    "    for ix, (premise, hypothesis) in enumerate(data):\n",
    "        if ix % 5000 == 4999:\n",
    "            print(f\"[{ix}/100000]\")\n",
    "        premise_ind = [tok2ind[tok] if tok in tok2ind else tok2ind[UNK] for tok in premise]\n",
    "        hypothesis_ind = [tok2ind[tok] if tok in tok2ind else tok2ind[UNK] for tok in hypothesis]\n",
    "        data_ind.append([premise_ind, hypothesis_ind])\n",
    "    return data_ind\n",
    "\n",
    "train_ind = data_indices(train_data_tok)\n",
    "val_ind = data_indices(val_data_tok)"
   ]
  },
  {
   "cell_type": "code",
   "execution_count": 44,
   "metadata": {},
   "outputs": [],
   "source": [
    "for ix in range(len(train_ind)):\n",
    "    assert(len(train_ind[ix][0]) == len(train_data_tok[ix][0]))\n",
    "    assert(len(train_ind[ix][1]) == len(train_data_tok[ix][1]))"
   ]
  },
  {
   "cell_type": "code",
   "execution_count": 45,
   "metadata": {},
   "outputs": [],
   "source": [
    "utils.save_pkl_data(train_ind, 'snli_train_ind.p')\n",
    "utils.save_pkl_data(train_target, 'snli_train_target.p')\n",
    "utils.save_pkl_data(val_ind, 'snli_val_ind.p')\n",
    "utils.save_pkl_data(val_target, 'snli_val_target.p')"
   ]
  },
  {
   "cell_type": "code",
   "execution_count": 2,
   "metadata": {},
   "outputs": [],
   "source": [
    "train_ind = utils.load_pkl_data('snli_train_ind.p')\n",
    "train_target = utils.load_pkl_data('snli_train_target.p')\n",
    "val_ind = utils.load_pkl_data('snli_val_ind.p')\n",
    "val_target = utils.load_pkl_data('snli_val_target.p')\n",
    "\n",
    "train_dataset = data.SNLIDataset(train_ind, train_target)\n",
    "val_dataset = data.SNLIDataset(val_ind, val_target)"
   ]
  },
  {
   "cell_type": "code",
   "execution_count": 3,
   "metadata": {},
   "outputs": [],
   "source": [
    "val_loader = DataLoader(val_dataset, batch_size=data.BATCH_SIZE, shuffle=False, collate_fn=data.collate_fn)"
   ]
  },
  {
   "cell_type": "code",
   "execution_count": 9,
   "metadata": {},
   "outputs": [
    {
     "name": "stdout",
     "output_type": "stream",
     "text": [
      "premise:  tensor([[    48,     43,      7,  ...,      0,      0,      0],\n",
      "        [   120,     14,    170,  ...,      0,      0,      0],\n",
      "        [   757,   6794,     27,  ...,      0,      0,      0],\n",
      "        ...,\n",
      "        [    48,   9703,    388,  ...,      0,      0,      0],\n",
      "        [     2,   1813,      4,  ...,      0,      0,      0],\n",
      "        [     2,    229,    629,  ...,      0,      0,      0]])\n",
      "hypo: tensor([[    49,      9,     13,  ...,      0,      0,      0],\n",
      "        [  1001,     14,      9,  ...,      0,      0,      0],\n",
      "        [    14,    308,    121,  ...,      0,      0,      0],\n",
      "        ...,\n",
      "        [     3,    388,      9,  ...,      0,      0,      0],\n",
      "        [     3,   1813,      5,  ...,      0,      0,      0],\n",
      "        [     2,    229,    629,  ...,      0,      0,      0]])\n",
      "-----\n",
      "premise:  tensor([[     2,      6,      8,  ...,      0,      0,      0],\n",
      "        [  2517,     32,   1029,  ...,      0,      0,      0],\n",
      "        [     2,     77,     29,  ...,      0,      0,      0],\n",
      "        ...,\n",
      "        [     2,      6,    161,  ...,      0,      0,      0],\n",
      "        [    13,   1026,     81,  ...,      0,      0,      0],\n",
      "        [    13,     22,     46,  ...,      0,      0,      0]])\n",
      "hypo: tensor([[     3,      6,      8,  ...,      0,      0,      0],\n",
      "        [  2517,      9,     32,  ...,      0,      0,      0],\n",
      "        [     2,     29,      5,  ...,      0,      0,      0],\n",
      "        ...,\n",
      "        [     3,    144,      5,  ...,      0,      0,      0],\n",
      "        [    13,   1026,     81,  ...,      0,      0,      0],\n",
      "        [    49,      9,     13,  ...,      0,      0,      0]])\n",
      "-----\n",
      "premise:  tensor([[     2,    564,      4,  ...,      0,      0,      0],\n",
      "        [    13,     54,      9,  ...,      0,      0,      0],\n",
      "        [    46,     26,      5,  ...,      0,      0,      0],\n",
      "        ...,\n",
      "        [   120,    289,     11,  ...,      0,      0,      0],\n",
      "        [    18,    125,      6,  ...,      0,      0,      0],\n",
      "        [     2,     77,     23,  ...,      0,      0,      0]])\n",
      "hypo: tensor([[     2,    564,      4,  ...,      0,      0,      0],\n",
      "        [     3,     54,      9,  ...,      0,      0,      0],\n",
      "        [    49,      5,    588,  ...,      0,      0,      0],\n",
      "        ...,\n",
      "        [     3,    120,    289,  ...,      0,      0,      0],\n",
      "        [     3,      6,      5,  ...,      0,      0,      0],\n",
      "        [     3,     23,      5,  ...,      0,      0,      0]])\n",
      "-----\n",
      "premise:  tensor([[    18,   2558,    480,  ...,      0,      0,      0],\n",
      "        [     2,     28,     29,  ...,      0,      0,      0],\n",
      "        [     2,      6,      5,  ...,      0,      0,      0],\n",
      "        ...,\n",
      "        [  4435,    170,      4,  ...,      0,      0,      0],\n",
      "        [    13,   1782,   3969,  ...,      0,      0,      0],\n",
      "        [    13,     59,    128,  ...,      0,      0,      0]])\n",
      "hypo: tensor([[    2,    12,     5,  ...,     0,     0,     0],\n",
      "        [    2,    29,    24,  ...,     0,     0,     0],\n",
      "        [    2,   764,     6,  ...,     0,     0,     0],\n",
      "        ...,\n",
      "        [ 4435,     9,  7414,  ...,     0,     0,     0],\n",
      "        [   13,    14,   314,  ...,     0,     0,     0],\n",
      "        [   13,    54,     9,  ...,     0,     0,     0]])\n",
      "-----\n",
      "premise:  tensor([[    13,     43,    380,  ...,      0,      0,      0],\n",
      "        [     2,     29,     11,  ...,      0,      0,      0],\n",
      "        [    13,     69,      8,  ...,      0,      0,      0],\n",
      "        ...,\n",
      "        [    13,    223,    208,  ...,      0,      0,      0],\n",
      "        [     2,      6,      8,  ...,      0,      0,      0],\n",
      "        [     2,      6,      4,  ...,      0,      0,      0]])\n",
      "hypo: tensor([[   13,    22,     9,  ...,     0,     0,     0],\n",
      "        [    3,    29,    62,  ...,     0,     0,     0],\n",
      "        [    3,    81,     9,  ...,     0,     0,     0],\n",
      "        ...,\n",
      "        [    3,    13,   223,  ...,     0,     0,     0],\n",
      "        [    2,     6,     8,  ...,     0,     0,     0],\n",
      "        [    2,   103,    62,  ...,     0,     0,     0]])\n",
      "-----\n",
      "premise:  tensor([[     2,     21,     12,  ...,      0,      0,      0],\n",
      "        [     2,     35,     10,  ...,      0,      0,      0],\n",
      "        [     2,      6,   3130,  ...,      0,      0,      0],\n",
      "        ...,\n",
      "        [     2,     59,     45,  ...,      0,      0,      0],\n",
      "        [     2,   4515,      8,  ...,      0,      0,      0],\n",
      "        [    13,   8331,      9,  ...,      0,      0,      0]])\n",
      "hypo: tensor([[     2,     21,     12,  ...,      0,      0,      0],\n",
      "        [    56,     80,      9,  ...,      0,      0,      0],\n",
      "        [   181,      5,     17,  ...,      0,      0,      0],\n",
      "        ...,\n",
      "        [     2,     45,    107,  ...,      0,      0,      0],\n",
      "        [     2,     29,      8,  ...,      0,      0,      0],\n",
      "        [   140,      9,    158,  ...,      0,      0,      0]])\n",
      "-----\n",
      "premise:  tensor([[   13,    22,    30,  ...,     0,     0,     0],\n",
      "        [    2,     6,     8,  ...,     0,     0,     0],\n",
      "        [    3,   171,   111,  ...,     0,     0,     0],\n",
      "        ...,\n",
      "        [    2,    35,    10,  ...,     0,     0,     0],\n",
      "        [    2,    12,     4,  ...,     0,     0,     0],\n",
      "        [   55,     2,  1250,  ...,     0,     0,     0]])\n",
      "hypo: tensor([[    3,    22,     9,  ...,     0,     0,     0],\n",
      "        [    2,   123,     9,  ...,     0,     0,     0],\n",
      "        [    3,   111,     5,  ...,     0,     0,     0],\n",
      "        ...,\n",
      "        [    2,    35,    10,  ...,     0,     0,     0],\n",
      "        [    2,    12,    62,  ...,     0,     0,     0],\n",
      "        [    3,    14,     9,  ...,     0,     0,     0]])\n",
      "-----\n",
      "premise:  tensor([[     2,   2253,    708,  ...,      0,      0,      0],\n",
      "        [     2,    505,      4,  ...,      0,      0,      0],\n",
      "        [    46,     59,    351,  ...,      0,      0,      0],\n",
      "        ...,\n",
      "        [     2,     12,     17,  ...,      0,      0,      0],\n",
      "        [    49,      5,     46,  ...,      0,      0,      0],\n",
      "        [   648,     43,      8,  ...,      0,      0,      0]])\n",
      "hypo: tensor([[     2,   2253,    210,  ...,      0,      0,      0],\n",
      "        [     2,   1141,    226,  ...,      0,      0,      0],\n",
      "        [    13,     77,     54,  ...,      0,      0,      0],\n",
      "        ...,\n",
      "        [     2,     12,     17,  ...,      0,      0,      0],\n",
      "        [    49,      5,    181,  ...,      0,      0,      0],\n",
      "        [     3,     14,    384,  ...,      0,      0,      0]])\n",
      "-----\n",
      "premise:  tensor([[     2,     12,     40,  ...,      0,      0,      0],\n",
      "        [    18,    145,     12,  ...,      0,      0,      0],\n",
      "        [     2,      6,      4,  ...,      0,      0,      0],\n",
      "        ...,\n",
      "        [    49,      5,      2,  ...,      0,      0,      0],\n",
      "        [     2,     45,      4,  ...,      0,      0,      0],\n",
      "        [     2,     77,     45,  ...,      0,      0,      0]])\n",
      "hypo: tensor([[     3,     43,   2964,  ...,      0,      0,      0],\n",
      "        [    12,   1053,     15,  ...,      0,      0,      0],\n",
      "        [     3,      6,      5,  ...,      0,      0,      0],\n",
      "        ...,\n",
      "        [     3,    531,      9,  ...,      0,      0,      0],\n",
      "        [     3,     54,      9,  ...,      0,      0,      0],\n",
      "        [     2,     45,      5,  ...,      0,      0,      0]])\n",
      "-----\n",
      "premise:  tensor([[    13,   8645,  11225,  ...,      0,      0,      0],\n",
      "        [    13,     14,     24,  ...,      0,      0,      0],\n",
      "        [   225,   2349,   2908,  ...,      0,      0,      0],\n",
      "        ...,\n",
      "        [    13,    125,     54,  ...,      0,      0,      0],\n",
      "        [     2,     12,    221,  ...,      0,      0,      0],\n",
      "        [     2,     35,     10,  ...,      0,      0,      0]])\n",
      "hypo: tensor([[    13,  11225,   1839,  ...,      0,      0,      0],\n",
      "        [    13,    289,     24,  ...,      0,      0,      0],\n",
      "        [     3,    144,     85,  ...,      0,      0,      0],\n",
      "        ...,\n",
      "        [     3,     54,      9,  ...,      0,      0,      0],\n",
      "        [     2,     12,      5,  ...,      0,      0,      0],\n",
      "        [     2,     35,     10,  ...,      0,      0,      0]])\n",
      "-----\n",
      "premise:  tensor([[     2,      6,      5,  ...,      0,      0,      0],\n",
      "        [     2,     35,     10,  ...,      0,      0,      0],\n",
      "        [     2,    492,     59,  ...,      0,      0,      0],\n",
      "        ...,\n",
      "        [     2,    188,   1611,  ...,      0,      0,      0],\n",
      "        [     2,     35,     10,  ...,      0,      0,      0],\n",
      "        [     2,     83,     10,  ...,      0,      0,      0]])\n",
      "hypo: tensor([[     2,      6,    117,  ...,      0,      0,      0],\n",
      "        [     2,     35,     10,  ...,      0,      0,      0],\n",
      "        [     3,     23,   2833,  ...,      0,      0,      0],\n",
      "        ...,\n",
      "        [     3,    111,   3339,  ...,      0,      0,      0],\n",
      "        [    49,      9,    512,  ...,      0,      0,      0],\n",
      "        [   183,     10,      3,  ...,      0,      0,      0]])\n",
      "-----\n",
      "premise:  tensor([[    13,   3663,      4,  ...,      0,      0,      0],\n",
      "        [     2,      6,      4,  ...,      0,      0,      0],\n",
      "        [     2,     23,     93,  ...,      0,      0,      0],\n",
      "        ...,\n",
      "        [     2,    947,      4,  ...,      0,      0,      0],\n",
      "        [     2,     26,     17,  ...,      0,      0,      0],\n",
      "        [     2,     45,      4,  ...,      0,      0,      0]])\n",
      "hypo: tensor([[  1581,    405,    217,  ...,      0,      0,      0],\n",
      "        [     2,    722,      6,  ...,      0,      0,      0],\n",
      "        [     3,     23,      5,  ...,      0,      0,      0],\n",
      "        ...,\n",
      "        [     3,      6,      5,  ...,      0,      0,      0],\n",
      "        [     2,     26,   5300,  ...,      0,      0,      0],\n",
      "        [     3,    248,      5,  ...,      0,      0,      0]])\n",
      "-----\n"
     ]
    },
    {
     "name": "stdout",
     "output_type": "stream",
     "text": [
      "premise:  tensor([[     2,     41,   1023,  ...,      0,      0,      0],\n",
      "        [     4,   2299,      2,  ...,      0,      0,      0],\n",
      "        [    49,      9,     13,  ...,      0,      0,      0],\n",
      "        ...,\n",
      "        [     2,     59,     26,  ...,      0,      0,      0],\n",
      "        [    16,      2,     59,  ...,      0,      0,      0],\n",
      "        [     2,    450,      6,  ...,      0,      0,      0]])\n",
      "hypo: tensor([[     2,     29,   1023,  ...,      0,      0,      0],\n",
      "        [     3,      6,      5,  ...,      0,      0,      0],\n",
      "        [    13,     22,    384,  ...,      0,      0,      0],\n",
      "        ...,\n",
      "        [     3,     59,     26,  ...,      0,      0,      0],\n",
      "        [     2,    111,      5,  ...,      0,      0,      0],\n",
      "        [   181,      5,    210,  ...,      0,      0,      0]])\n",
      "-----\n",
      "premise:  tensor([[    14,    415,     82,  ...,      0,      0,      0],\n",
      "        [     3,   8945,      4,  ...,      0,      0,      0],\n",
      "        [    13,    102,      9,  ...,      0,      0,      0],\n",
      "        ...,\n",
      "        [    13,    289,     75,  ...,      0,      0,      0],\n",
      "        [     2,     12,     44,  ...,      0,      0,      0],\n",
      "        [     2,     12,     17,  ...,      0,      0,      0]])\n",
      "hypo: tensor([[   14,     9,     4,  ...,     0,     0,     0],\n",
      "        [    2,   304,    41,  ...,     0,     0,     0],\n",
      "        [  140,     9,   696,  ...,     0,     0,     0],\n",
      "        ...,\n",
      "        [   22,     9,  1150,  ...,     0,     0,     0],\n",
      "        [ 6363,   598,     2,  ...,     0,     0,     0],\n",
      "        [    3,    12,     5,  ...,     0,     0,     0]])\n",
      "-----\n",
      "premise:  tensor([[     2,     59,     23,  ...,      0,      0,      0],\n",
      "        [     2,     59,    163,  ...,      0,      0,      0],\n",
      "        [     2,     61,   6769,  ...,      0,      0,      0],\n",
      "        ...,\n",
      "        [     3,     80,      4,  ...,      0,      0,      0],\n",
      "        [     3,    229,   1640,  ...,      0,      0,      0],\n",
      "        [     2,      6,     11,  ...,      0,      0,      0]])\n",
      "hypo: tensor([[    49,      9,   2523,  ...,      0,      0,      0],\n",
      "        [     2,     77,     26,  ...,      0,      0,      0],\n",
      "        [     2,     21,     12,  ...,      0,      0,      0],\n",
      "        ...,\n",
      "        [     3,     80,    237,  ...,      0,      0,      0],\n",
      "        [   733,     13,     43,  ...,      0,      0,      0],\n",
      "        [     3,    739,      8,  ...,      0,      0,      0]])\n",
      "-----\n",
      "premise:  tensor([[     2,     59,     23,  ...,      0,      0,      0],\n",
      "        [     2,    248,   1028,  ...,      0,      0,      0],\n",
      "        [    21,    208,   4908,  ...,      0,      0,      0],\n",
      "        ...,\n",
      "        [     2,     12,      5,  ...,      0,      0,      0],\n",
      "        [     2,     41,      4,  ...,      0,      0,      0],\n",
      "        [     6,   2368,   1096,  ...,      0,      0,      0]])\n",
      "hypo: tensor([[    2,    41,    16,  ...,     0,     0,     0],\n",
      "        [    2,    45,     5,  ...,     0,     0,     0],\n",
      "        [  128,     9,   278,  ...,     0,     0,     0],\n",
      "        ...,\n",
      "        [    2,    12,   161,  ...,     0,     0,     0],\n",
      "        [    3,   148,     4,  ...,     0,     0,     0],\n",
      "        [    2,   434,     7,  ...,     0,     0,     0]])\n",
      "-----\n",
      "premise:  tensor([[   189,      4,      2,  ...,      0,      0,      0],\n",
      "        [    48,     81,    366,  ...,      0,      0,      0],\n",
      "        [     2,     59,    248,  ...,      0,      0,      0],\n",
      "        ...,\n",
      "        [    14,      9,    393,  ...,      0,      0,      0],\n",
      "        [   120,     14,      9,  ...,      0,      0,      0],\n",
      "        [    13,     21,     80,  ...,      0,      0,      0]])\n",
      "hypo: tensor([[     2,    189,      4,  ...,      0,      0,      0],\n",
      "        [    48,    508,   1006,  ...,      0,      0,      0],\n",
      "        [     2,     59,     26,  ...,      0,      0,      0],\n",
      "        ...,\n",
      "        [     2,    255,    226,  ...,      0,      0,      0],\n",
      "        [     3,     14,      9,  ...,      0,      0,      0],\n",
      "        [     2,     23,      8,  ...,      0,      0,      0]])\n",
      "-----\n",
      "premise:  tensor([[     2,   1404,    442,  ...,      0,      0,      0],\n",
      "        [     2,     35,     10,  ...,      0,      0,      0],\n",
      "        [     2,      6,      8,  ...,      0,      0,      0],\n",
      "        ...,\n",
      "        [     2,      6,    157,  ...,      0,      0,      0],\n",
      "        [  1218,     43,     30,  ...,      0,      0,      0],\n",
      "        [    13,     43,     46,  ...,      0,      0,      0]])\n",
      "hypo: tensor([[     3,    126,   1683,  ...,      0,      0,      0],\n",
      "        [    14,      9,     38,  ...,      0,      0,      0],\n",
      "        [    18,    464,      8,  ...,      0,      0,      0],\n",
      "        ...,\n",
      "        [     2,     41,      5,  ...,      0,      0,      0],\n",
      "        [   295,     43,    170,  ...,      0,      0,      0],\n",
      "        [    13,    980,      9,  ...,      0,      0,      0]])\n",
      "-----\n",
      "premise:  tensor([[     2,     23,    811,  ...,      0,      0,      0],\n",
      "        [     2,      6,    554,  ...,      0,      0,      0],\n",
      "        [   139,     54,     24,  ...,      0,      0,      0],\n",
      "        ...,\n",
      "        [     2,     21,      6,  ...,      0,      0,      0],\n",
      "        [     2,    291,     39,  ...,      0,      0,      0],\n",
      "        [     2,     12,     17,  ...,      0,      0,      0]])\n",
      "hypo: tensor([[     2,     23,      5,  ...,      0,      0,      0],\n",
      "        [     2,      6,      5,  ...,      0,      0,      0],\n",
      "        [     2,     26,      5,  ...,      0,      0,      0],\n",
      "        ...,\n",
      "        [     3,     21,      6,  ...,      0,      0,      0],\n",
      "        [     2,    514,     10,  ...,      0,      0,      0],\n",
      "        [     2,     12,     17,  ...,      0,      0,      0]])\n",
      "-----\n",
      "premise:  tensor([[     2,   1103,      5,  ...,      0,      0,      0],\n",
      "        [    49,      9,     13,  ...,      0,      0,      0],\n",
      "        [     2,     12,      4,  ...,      0,      0,      0],\n",
      "        ...,\n",
      "        [    13,     43,      4,  ...,      0,      0,      0],\n",
      "        [     2,    277,     21,  ...,      0,      0,      0],\n",
      "        [   139,     14,    960,  ...,      0,      0,      0]])\n",
      "hypo: tensor([[    3,  1103,     5,  ...,     0,     0,     0],\n",
      "        [   13,    22,     9,  ...,     0,     0,     0],\n",
      "        [    3,   103,     4,  ...,     0,     0,     0],\n",
      "        ...,\n",
      "        [   13,    14,  2701,  ...,     0,     0,     0],\n",
      "        [    2,    45,     4,  ...,     0,     0,     0],\n",
      "        [    2,  2050,   298,  ...,     0,     0,     0]])\n",
      "-----\n",
      "premise:  tensor([[     2,    202,      8,  ...,      0,      0,      0],\n",
      "        [     2,   2114,    547,  ...,      0,      0,      0],\n",
      "        [     2,      6,      4,  ...,      0,      0,      0],\n",
      "        ...,\n",
      "        [    13,     22,      9,  ...,      0,      0,      0],\n",
      "        [     2,      6,      4,  ...,      0,      0,      0],\n",
      "        [     2,     25,     29,  ...,      0,      0,      0]])\n",
      "hypo: tensor([[  3661,     75,    123,  ...,      0,      0,      0],\n",
      "        [     2,      6,    858,  ...,      0,      0,      0],\n",
      "        [     2,      6,      5,  ...,      0,      0,      0],\n",
      "        ...,\n",
      "        [    22,    342,     16,  ...,      0,      0,      0],\n",
      "        [     2,    123,     10,  ...,      0,      0,      0],\n",
      "        [     2,     29,     64,  ...,      0,      0,      0]])\n",
      "-----\n",
      "premise:  tensor([[   13,   289,    30,  ...,     0,     0,     0],\n",
      "        [    2,    12,   186,  ...,     0,     0,     0],\n",
      "        [   26,    11,    25,  ...,     0,     0,     0],\n",
      "        ...,\n",
      "        [    2,     6,     4,  ...,     0,     0,     0],\n",
      "        [    2,    41,   404,  ...,     0,     0,     0],\n",
      "        [    2,    12,     4,  ...,     0,     0,     0]])\n",
      "hypo: tensor([[   13,   289,     9,  ...,     0,     0,     0],\n",
      "        [    3,    12,     5,  ...,     0,     0,     0],\n",
      "        [    2,    26,   237,  ...,     0,     0,     0],\n",
      "        ...,\n",
      "        [    2,    41,     5,  ...,     0,     0,     0],\n",
      "        [    3,    68,  3500,  ...,     0,     0,     0],\n",
      "        [    2,    12,     5,  ...,     0,     0,     0]])\n",
      "-----\n",
      "premise:  tensor([[     2,     23,      4,  ...,      0,      0,      0],\n",
      "        [     2,      6,      4,  ...,      0,      0,      0],\n",
      "        [    18,    229,   1640,  ...,      0,      0,      0],\n",
      "        ...,\n",
      "        [    13,     43,     97,  ...,      0,      0,      0],\n",
      "        [     2,      6,      4,  ...,      0,      0,      0],\n",
      "        [    13,     22,    154,  ...,      0,      0,      0]])\n",
      "hypo: tensor([[     2,     23,    107,  ...,      0,      0,      0],\n",
      "        [     3,      6,      5,  ...,      0,      0,      0],\n",
      "        [     2,    148,    685,  ...,      0,      0,      0],\n",
      "        ...,\n",
      "        [     3,     13,     43,  ...,      0,      0,      0],\n",
      "        [   135,      5,     24,  ...,      0,      0,      0],\n",
      "        [     2,     12,     24,  ...,      0,      0,      0]])\n",
      "-----\n",
      "premise:  tensor([[     2,     21,      6,  ...,      0,      0,      0],\n",
      "        [     2,     39,    597,  ...,      0,      0,      0],\n",
      "        [     2,    148,    263,  ...,      0,      0,      0],\n",
      "        ...,\n",
      "        [     2,      6,    134,  ...,      0,      0,      0],\n",
      "        [   572,     34,    109,  ...,      0,      0,      0],\n",
      "        [    48,    464,   2933,  ...,      0,      0,      0]])\n"
     ]
    },
    {
     "name": "stdout",
     "output_type": "stream",
     "text": [
      "hypo: tensor([[     2,     21,      6,  ...,      0,      0,      0],\n",
      "        [     3,   2604,      9,  ...,      0,      0,      0],\n",
      "        [     2,    148,      5,  ...,      0,      0,      0],\n",
      "        ...,\n",
      "        [     2,      6,      5,  ...,      0,      0,      0],\n",
      "        [     3,    109,      5,  ...,      0,      0,      0],\n",
      "        [     2,     45,      8,  ...,      0,      0,      0]])\n",
      "-----\n",
      "premise:  tensor([[     2,    505,    206,  ...,      0,      0,      0],\n",
      "        [     2,     35,     10,  ...,      0,      0,      0],\n",
      "        [   803,      9,    541,  ...,      0,      0,      0],\n",
      "        ...,\n",
      "        [    13,     43,    380,  ...,      0,      0,      0],\n",
      "        [     2,    692,      1,  ...,      0,      0,      0],\n",
      "        [     2,      6,      4,  ...,      0,      0,      0]])\n",
      "hypo: tensor([[   505,    613,     66,  ...,      0,      0,      0],\n",
      "        [     3,     12,   3518,  ...,      0,      0,      0],\n",
      "        [    49,      9,    803,  ...,      0,      0,      0],\n",
      "        ...,\n",
      "        [    46,     12,      8,  ...,      0,      0,      0],\n",
      "        [     2,    692,   4028,  ...,      0,      0,      0],\n",
      "        [     3,    123,    107,  ...,      0,      0,      0]])\n",
      "-----\n",
      "premise:  tensor([[    3,   246,  1910,  ...,     0,     0,     0],\n",
      "        [    2,     6,    11,  ...,     0,     0,     0],\n",
      "        [   39,   737,    11,  ...,     0,     0,     0],\n",
      "        ...,\n",
      "        [    2,    35,    10,  ...,     0,     0,     0],\n",
      "        [    2,    35,    10,  ...,     0,     0,     0],\n",
      "        [  251,    64,     2,  ...,     0,     0,     0]])\n",
      "hypo: tensor([[    18,   1910,      5,  ...,      0,      0,      0],\n",
      "        [    13,     22,      9,  ...,      0,      0,      0],\n",
      "        [     3,      6,      5,  ...,      0,      0,      0],\n",
      "        ...,\n",
      "        [    14,      9,     32,  ...,      0,      0,      0],\n",
      "        [     3,     35,     10,  ...,      0,      0,      0],\n",
      "        [    14,     64,     44,  ...,      0,      0,      0]])\n",
      "-----\n",
      "premise:  tensor([[     2,     64,    172,  ...,      0,      0,      0],\n",
      "        [     2,     12,      4,  ...,      0,      0,      0],\n",
      "        [     2,     21,      6,  ...,      0,      0,      0],\n",
      "        ...,\n",
      "        [     2,    351,      4,  ...,      0,      0,      0],\n",
      "        [     2,    363,    457,  ...,      0,      0,      0],\n",
      "        [     6,      8,     12,  ...,      0,      0,      0]])\n",
      "hypo: tensor([[     3,     64,    172,  ...,      0,      0,      0],\n",
      "        [    21,    103,    291,  ...,      0,      0,      0],\n",
      "        [     2,    318,   1485,  ...,      0,      0,      0],\n",
      "        ...,\n",
      "        [     2,    351,     24,  ...,      0,      0,      0],\n",
      "        [     2,    363,      5,  ...,      0,      0,      0],\n",
      "        [     6,      8,     12,  ...,      0,      0,      0]])\n",
      "-----\n",
      "premise:  tensor([[     2,      6,     11,  ...,      0,      0,      0],\n",
      "        [     2,     29,    902,  ...,      0,      0,      0],\n",
      "        [     2,     35,     10,  ...,      0,      0,      0],\n",
      "        ...,\n",
      "        [    18,    145,      6,  ...,      0,      0,      0],\n",
      "        [     2,      6,      4,  ...,      0,      0,      0],\n",
      "        [     2,     77,     26,  ...,      0,      0,      0]])\n",
      "hypo: tensor([[    3,     6,    62,  ...,     0,     0,     0],\n",
      "        [    2,    29,    93,  ...,     0,     0,     0],\n",
      "        [    3,    35,   393,  ...,     0,     0,     0],\n",
      "        ...,\n",
      "        [   13,    22,     9,  ...,     0,     0,     0],\n",
      "        [  139,    22,    17,  ...,     0,     0,     0],\n",
      "        [    2,    26,  4113,  ...,     0,     0,     0]])\n",
      "-----\n",
      "premise:  tensor([[     2,     12,   2988,  ...,      0,      0,      0],\n",
      "        [     2,     21,     23,  ...,      0,      0,      0],\n",
      "        [     2,      6,     11,  ...,      0,      0,      0],\n",
      "        ...,\n",
      "        [    13,     22,      4,  ...,      0,      0,      0],\n",
      "        [    49,      5,      2,  ...,      0,      0,      0],\n",
      "        [     2,     12,    586,  ...,      0,      0,      0]])\n",
      "hypo: tensor([[     3,     12,      5,  ...,      0,      0,      0],\n",
      "        [   140,      9,    199,  ...,      0,      0,      0],\n",
      "        [     2,      6,     72,  ...,      0,      0,      0],\n",
      "        ...,\n",
      "        [     3,    453,      5,  ...,      0,      0,      0],\n",
      "        [   476,      5,    263,  ...,      0,      0,      0],\n",
      "        [     2,     12,      5,  ...,      0,      0,      0]])\n",
      "-----\n",
      "premise:  tensor([[     2,    103,      4,  ...,      0,      0,      0],\n",
      "        [  4051,   2786,      9,  ...,      0,      0,      0],\n",
      "        [   120,    189,     54,  ...,      0,      0,      0],\n",
      "        ...,\n",
      "        [     2,     21,     26,  ...,      0,      0,      0],\n",
      "        [     2,     12,     17,  ...,      0,      0,      0],\n",
      "        [    13,   3663,      4,  ...,      0,      0,      0]])\n",
      "hypo: tensor([[    3,    26,  6820,  ...,     0,     0,     0],\n",
      "        [    3,    81,     9,  ...,     0,     0,     0],\n",
      "        [   80,     9,    24,  ...,     0,     0,     0],\n",
      "        ...,\n",
      "        [    3,   102,   481,  ...,     0,     0,     0],\n",
      "        [    2,    43,     8,  ...,     0,     0,     0],\n",
      "        [    3,    83,     5,  ...,     0,     0,     0]])\n",
      "-----\n",
      "premise:  tensor([[   120,     21,     22,  ...,      0,      0,      0],\n",
      "        [     3,    172,    490,  ...,      0,      0,      0],\n",
      "        [     2,     21,     26,  ...,      0,      0,      0],\n",
      "        ...,\n",
      "        [     2,   2438,     11,  ...,      0,      0,      0],\n",
      "        [     2,     59,     23,  ...,      0,      0,      0],\n",
      "        [     2,      6,     87,  ...,      0,      0,      0]])\n",
      "hypo: tensor([[   120,    784,      9,  ...,      0,      0,      0],\n",
      "        [    13,     43,     30,  ...,      0,      0,      0],\n",
      "        [     2,     21,     26,  ...,      0,      0,      0],\n",
      "        ...,\n",
      "        [     2,   2438,      5,  ...,      0,      0,      0],\n",
      "        [     3,     23,     62,  ...,      0,      0,      0],\n",
      "        [     2,      6,      5,  ...,      0,      0,      0]])\n",
      "-----\n",
      "premise:  tensor([[    2,   184,   109,  ...,     0,     0,     0],\n",
      "        [   18,   118,   763,  ...,     0,     0,     0],\n",
      "        [    2,    77,    23,  ...,     0,     0,     0],\n",
      "        ...,\n",
      "        [    0,     0,     0,  ...,     0,     0,     0],\n",
      "        [    0,     0,     0,  ...,     0,     0,     0],\n",
      "        [    0,     0,     0,  ...,     0,     0,     0]])\n",
      "hypo: tensor([[    2,   184,   109,  ...,     0,     0,     0],\n",
      "        [   18,   118,   763,  ...,     0,     0,     0],\n",
      "        [   90,    85,   721,  ...,     0,     0,     0],\n",
      "        ...,\n",
      "        [    0,     0,     0,  ...,     0,     0,     0],\n",
      "        [    0,     0,     0,  ...,     0,     0,     0],\n",
      "        [    0,     0,     0,  ...,     0,     0,     0]])\n",
      "-----\n"
     ]
    }
   ],
   "source": [
    "for ix, (premise, hypo, premise_len, hypo_len, targets) in enumerate(val_loader):\n",
    "    print(\"premise: \", premise)\n",
    "    print(\"hypo:\", hypo)\n",
    "    assert(premise.shape[1] == 85)\n",
    "    print(\"-----\")"
   ]
  },
  {
   "cell_type": "code",
   "execution_count": 37,
   "metadata": {},
   "outputs": [],
   "source": [
    "class GRU(nn.Module):\n",
    "    def __init__(self, lookup_table, embed_size, hidden_size, num_layers, bidirectional):\n",
    "        super().__init__()\n",
    "        self.num_directions = 2 if bidirectional else 1\n",
    "        self.hidden_size = hidden_size\n",
    "        self.embed = nn.Embedding.from_pretrained(lookup_table)\n",
    "        self.rnn = nn.GRU(embed_size, hidden_size, num_layers, batch_first=True, bidirectional=bidirectional)\n",
    "    \n",
    "    def init_state(self, batch_size):\n",
    "        return torch.randn(self.num_layers * self.num_directions, batch_size, self.hidden_size)\n",
    "    \n",
    "    def forward(self, X, X_len):\n",
    "        batch_size = X.size(0)\n",
    "        embeddings = self.embed(X) # B, T, E\n",
    "        h_0 = self.init_state(batch_size)\n",
    "        hidden_states, _ = self.rnn(embeddings, h_0) #(B, T, D * H), (L * D, B, H)\n",
    "        # (B, H)\n",
    "        hidden = torch.FloatTensor(batch_size, self.num_directions * self.hidden_size) # (B, D * H)\n",
    "        for ix in range(batch_size):\n",
    "            hidden[ix, :] = hidden_states[ix, X_len[ix]-1, :]\n",
    "        return hidden"
   ]
  },
  {
   "cell_type": "code",
   "execution_count": 58,
   "metadata": {},
   "outputs": [
    {
     "name": "stdout",
     "output_type": "stream",
     "text": [
      "tensor([[ 0.0000,  0.0000,  0.0000,  ...,  0.0000,  0.0000,  0.0000],\n",
      "        [ 0.3023,  0.3331,  0.9758,  ...,  0.0808,  0.7496, -0.8975],\n",
      "        [ 0.0047,  0.0223, -0.0087,  ...,  0.1479,  0.1324, -0.0318],\n",
      "        ...,\n",
      "        [ 0.0327, -0.0134, -0.0800,  ...,  0.0548,  0.1061,  0.0346],\n",
      "        [-0.0277, -0.0269,  0.1038,  ...,  0.1449,  0.1653,  0.1201],\n",
      "        [ 0.1161, -0.0482,  0.1281,  ...,  0.1275, -0.1913,  0.0195]])\n"
     ]
    }
   ],
   "source": [
    "ind2vec = utils.load_pkl_data('ind2vec.p', data_dir='vocab')\n",
    "print(ind2vec)\n",
    "embed_size = 300\n",
    "hidden_size = 800\n",
    "num_layers = 1\n",
    "bidirectional = False\n",
    "\n",
    "rnn = GRU(ind2vec, embed_size, hidden_size, num_layers, bidirectional)"
   ]
  },
  {
   "cell_type": "code",
   "execution_count": null,
   "metadata": {},
   "outputs": [],
   "source": [
    "for i, ()"
   ]
  },
  {
   "cell_type": "code",
   "execution_count": null,
   "metadata": {},
   "outputs": [],
   "source": []
  },
  {
   "cell_type": "code",
   "execution_count": null,
   "metadata": {},
   "outputs": [],
   "source": []
  },
  {
   "cell_type": "code",
   "execution_count": null,
   "metadata": {},
   "outputs": [],
   "source": []
  },
  {
   "cell_type": "code",
   "execution_count": null,
   "metadata": {},
   "outputs": [],
   "source": []
  },
  {
   "cell_type": "code",
   "execution_count": null,
   "metadata": {},
   "outputs": [],
   "source": []
  },
  {
   "cell_type": "code",
   "execution_count": null,
   "metadata": {},
   "outputs": [],
   "source": []
  },
  {
   "cell_type": "code",
   "execution_count": null,
   "metadata": {},
   "outputs": [],
   "source": []
  },
  {
   "cell_type": "code",
   "execution_count": null,
   "metadata": {},
   "outputs": [],
   "source": []
  },
  {
   "cell_type": "code",
   "execution_count": null,
   "metadata": {},
   "outputs": [],
   "source": []
  },
  {
   "cell_type": "code",
   "execution_count": null,
   "metadata": {},
   "outputs": [],
   "source": []
  }
 ],
 "metadata": {
  "kernelspec": {
   "display_name": "Python [conda env:py3.6]",
   "language": "python",
   "name": "conda-env-py3.6-py"
  },
  "language_info": {
   "codemirror_mode": {
    "name": "ipython",
    "version": 3
   },
   "file_extension": ".py",
   "mimetype": "text/x-python",
   "name": "python",
   "nbconvert_exporter": "python",
   "pygments_lexer": "ipython3",
   "version": "3.6.4"
  }
 },
 "nbformat": 4,
 "nbformat_minor": 2
}
